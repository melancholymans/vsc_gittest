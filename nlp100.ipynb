{
 "cells": [
  {
   "cell_type": "markdown",
   "metadata": {},
   "source": [
    "# 第1章: 準備運動\n",
    "http://www.cl.ecei.tohoku.ac.jp/nlp100/  \n",
    "正解？  \n",
    "    <http://cartman0.hatenablog.com/entry/2016/05/07/183438  >\n",
    "http://qiita.com/gamma1129/items/37bf660cf4e4b21d4267  \n",
    "http://qiita.com/gamma1129/items/92b23219a5b9d8333dad#_reference-b40c52f2858adf1c0733\n",
    "    <http://qiita.com/tanaka0325/items/08831b96b684d7ecb2f7  >"
   ]
  },
  {
   "cell_type": "markdown",
   "metadata": {},
   "source": [
    "### 00. 文字列の逆順\n",
    "文字列\"stressed\"の文字を逆に（末尾から先頭に向かって）並べた文字列を得よ．"
   ]
  },
  {
   "cell_type": "code",
   "execution_count": 1,
   "metadata": {
    "collapsed": false
   },
   "outputs": [
    {
     "name": "stdout",
     "output_type": "stream",
     "text": [
      "desserts\n"
     ]
    }
   ],
   "source": [
    "str = \"stressed\"\n",
    "length= len(str)\n",
    "rev = []\n",
    "for i in range(length):\n",
    "    rev.append(str[length-i-1])\n",
    "print(\"\".join(rev))"
   ]
  },
  {
   "cell_type": "markdown",
   "metadata": {},
   "source": [
    "#### はしくれエンジニアもどきのメモ書きの人の正解"
   ]
  },
  {
   "cell_type": "code",
   "execution_count": 2,
   "metadata": {
    "collapsed": false
   },
   "outputs": [
    {
     "name": "stdout",
     "output_type": "stream",
     "text": [
      "desserts\n"
     ]
    }
   ],
   "source": [
    "s = 'stressed'\n",
    "rev = s[::-1]\n",
    "print(rev)"
   ]
  },
  {
   "cell_type": "markdown",
   "metadata": {},
   "source": [
    "#### Miyano Yusukeの正解"
   ]
  },
  {
   "cell_type": "code",
   "execution_count": 3,
   "metadata": {
    "collapsed": false
   },
   "outputs": [
    {
     "name": "stdout",
     "output_type": "stream",
     "text": [
      "desserts\n"
     ]
    }
   ],
   "source": [
    "str = \"stressed\"\n",
    "print(str[-1::-1])"
   ]
  },
  {
   "cell_type": "markdown",
   "metadata": {},
   "source": [
    "#### Tanaka Hiroyuki"
   ]
  },
  {
   "cell_type": "code",
   "execution_count": 4,
   "metadata": {
    "collapsed": false
   },
   "outputs": [
    {
     "name": "stdout",
     "output_type": "stream",
     "text": [
      "desserts\n"
     ]
    }
   ],
   "source": [
    "s = \"stressed\"\n",
    "\n",
    "def reverse(s: str) -> str:\n",
    "    list = []\n",
    "    #常に挿入するindexを0にすることで逆順を成立させている\n",
    "    for char in s:\n",
    "        list.insert(0, char)\n",
    "\n",
    "    return \"\".join(list)\n",
    "\n",
    "print(reverse(s))"
   ]
  },
  {
   "cell_type": "markdown",
   "metadata": {},
   "source": [
    "#### python CookBookに書かれている方法"
   ]
  },
  {
   "cell_type": "code",
   "execution_count": 5,
   "metadata": {
    "collapsed": false
   },
   "outputs": [
    {
     "name": "stdout",
     "output_type": "stream",
     "text": [
      "No1 desserts\n"
     ]
    }
   ],
   "source": [
    "#No1\n",
    "str = \"stressed\"\n",
    "rev = str[::-1]\n",
    "print(\"No1\",rev)\n"
   ]
  },
  {
   "cell_type": "markdown",
   "metadata": {},
   "source": [
    "### 01. 「パタトクカシーー」\n",
    "「パタトクカシーー」という文字列の1,3,5,7文字目を取り出して連結した文字列を得よ．"
   ]
  },
  {
   "cell_type": "code",
   "execution_count": 6,
   "metadata": {
    "collapsed": false
   },
   "outputs": [
    {
     "name": "stdout",
     "output_type": "stream",
     "text": [
      "パトカー\n"
     ]
    }
   ],
   "source": [
    "str = \"パタトクカシーー\"\n",
    "print(str[0::2])"
   ]
  },
  {
   "cell_type": "markdown",
   "metadata": {},
   "source": [
    "#### はしくれエンジニアもどきのメモ書きの人の正解"
   ]
  },
  {
   "cell_type": "code",
   "execution_count": 7,
   "metadata": {
    "collapsed": false
   },
   "outputs": [
    {
     "name": "stdout",
     "output_type": "stream",
     "text": [
      "パトカー\n"
     ]
    }
   ],
   "source": [
    "s = 'パタトクカシーー'\n",
    "s1357 = s[::2]\n",
    "print(s1357)"
   ]
  },
  {
   "cell_type": "markdown",
   "metadata": {},
   "source": [
    "#### Miyano Yusukeの正解"
   ]
  },
  {
   "cell_type": "code",
   "execution_count": 8,
   "metadata": {
    "collapsed": false
   },
   "outputs": [
    {
     "name": "stdout",
     "output_type": "stream",
     "text": [
      "パトカー\n"
     ]
    }
   ],
   "source": [
    "#!/usr/bin/env python\n",
    "# -*- coding: utf-8 -*-\n",
    "# 01.py\n",
    "\n",
    "str = u'パタトクカシーー'\n",
    "print(str[0::2])"
   ]
  },
  {
   "cell_type": "markdown",
   "metadata": {},
   "source": [
    "#### tanaka0325"
   ]
  },
  {
   "cell_type": "code",
   "execution_count": 9,
   "metadata": {
    "collapsed": false
   },
   "outputs": [
    {
     "name": "stdout",
     "output_type": "stream",
     "text": [
      "パトカー\n"
     ]
    }
   ],
   "source": [
    "s = \"パタトクカシーー\"\n",
    "print(s[0] + s[2] + s[4] + s[6])"
   ]
  },
  {
   "cell_type": "markdown",
   "metadata": {
    "collapsed": true
   },
   "source": [
    "### 02. 「パトカー」＋「タクシー」＝「パタトクカシーー」\n",
    "「パトカー」＋「タクシー」の文字を先頭から交互に連結して文字列「パタトクカシーー」を得よ．"
   ]
  },
  {
   "cell_type": "code",
   "execution_count": 10,
   "metadata": {
    "collapsed": false
   },
   "outputs": [
    {
     "name": "stdout",
     "output_type": "stream",
     "text": [
      "パタトクカシーー\n"
     ]
    }
   ],
   "source": [
    "str1 = \"パトカー\"\n",
    "str2 = \"タクシー\"\n",
    "str = [] \n",
    "for s1,s2 in zip(str1,str2):\n",
    "    str.append(s1)\n",
    "    str.append(s2)\n",
    "print(\"\".join(str))"
   ]
  },
  {
   "cell_type": "markdown",
   "metadata": {},
   "source": [
    "#### はしくれエンジニアもどきのメモ書き"
   ]
  },
  {
   "cell_type": "code",
   "execution_count": 11,
   "metadata": {
    "collapsed": false
   },
   "outputs": [
    {
     "name": "stdout",
     "output_type": "stream",
     "text": [
      "パタトクカシーー\n"
     ]
    }
   ],
   "source": [
    "s1 = 'パトカー'\n",
    "s2 = 'タクシー'\n",
    "\n",
    "s = ''.join([p + t for p, t in zip(s1, s2)])\n",
    "print(s)"
   ]
  },
  {
   "cell_type": "markdown",
   "metadata": {},
   "source": [
    "#### Miyano Yusukeの正解¶"
   ]
  },
  {
   "cell_type": "code",
   "execution_count": 12,
   "metadata": {
    "collapsed": false
   },
   "outputs": [
    {
     "name": "stdout",
     "output_type": "stream",
     "text": [
      "パタトクカシーー\n"
     ]
    }
   ],
   "source": [
    "str1 = u'パトカー'\n",
    "str2 = u'タクシー'\n",
    "str3 = u''\n",
    "\n",
    "for a,b in zip(str1, str2):\n",
    "    str3 = str3 + a + b\n",
    "\n",
    "print( str3)"
   ]
  },
  {
   "cell_type": "markdown",
   "metadata": {},
   "source": [
    "#### tanaka0325"
   ]
  },
  {
   "cell_type": "code",
   "execution_count": 13,
   "metadata": {
    "collapsed": false
   },
   "outputs": [
    {
     "name": "stdout",
     "output_type": "stream",
     "text": [
      "パタトクカシーー\n"
     ]
    }
   ],
   "source": [
    "s1 = \"パトカー\"\n",
    "s2 = \"タクシー\"\n",
    "s3 = \"\"\n",
    "\n",
    "for i in range(len(s1)):\n",
    "    s3 = s3 + s1[i] + s2[i]\n",
    "\n",
    "print(s3)"
   ]
  },
  {
   "cell_type": "markdown",
   "metadata": {},
   "source": [
    "### 03. 円周率\n",
    "\"Now I need a drink, alcoholic of course, after the heavy lectures involving quantum mechanics.\"という文を単語に分解し，各単語の（アルファベットの）文字数を先頭から出現順に並べたリストを作成せよ．"
   ]
  },
  {
   "cell_type": "code",
   "execution_count": 1,
   "metadata": {
    "collapsed": false
   },
   "outputs": [
    {
     "name": "stdout",
     "output_type": "stream",
     "text": [
      "[3, 1, 4, 1, 6, 9, 2, 7, 5, 3, 5, 8, 9, 7, 10]\n"
     ]
    }
   ],
   "source": [
    "str = \"Now I need a drink, alcoholic of course, after the heavy lectures involving quantum mechanics.\"\n",
    "print([len(s) for s in str.split()])"
   ]
  },
  {
   "cell_type": "markdown",
   "metadata": {},
   "source": [
    "#### はしくれエンジニアもどきのメモ書き"
   ]
  },
  {
   "cell_type": "code",
   "execution_count": 5,
   "metadata": {
    "collapsed": false
   },
   "outputs": [
    {
     "name": "stdout",
     "output_type": "stream",
     "text": [
      "[3, 1, 4, 1, 5, 9, 2, 6, 5, 3, 5, 8, 9, 7, 9]\n"
     ]
    }
   ],
   "source": [
    "import re\n",
    "sentense = 'Now I need a drink, alcoholic of course, after the heavy lectures involving quantum mechanics.'\n",
    "\n",
    "#ちゃんと問題のアルファベットと限定している（, .を除去している）\n",
    "words = re.sub(r'[.|,]', '', sentense).split()\n",
    "counts = [len(w) for w in words]\n",
    "print(counts)"
   ]
  },
  {
   "cell_type": "markdown",
   "metadata": {},
   "source": [
    "#### Miyano Yusukeの正解"
   ]
  },
  {
   "cell_type": "code",
   "execution_count": 7,
   "metadata": {
    "collapsed": false
   },
   "outputs": [
    {
     "name": "stdout",
     "output_type": "stream",
     "text": [
      "[3, 1, 4, 1, 5, 9, 2, 6, 5, 3, 5, 8, 9, 7, 9]\n"
     ]
    }
   ],
   "source": [
    "str = \"Now I need a drink, alcoholic of course, after the heavy lectures involving quantum mechanics.\"\n",
    "str = str.replace('.', \"\")\n",
    "str = str.replace(',', \"\")\n",
    "str = str.split()\n",
    "\n",
    "list = []\n",
    "for word in str:\n",
    "    list.append(len(word))\n",
    "\n",
    "print(list)"
   ]
  },
  {
   "cell_type": "markdown",
   "metadata": {},
   "source": [
    "#### tanaka0325"
   ]
  },
  {
   "cell_type": "code",
   "execution_count": 8,
   "metadata": {
    "collapsed": false
   },
   "outputs": [
    {
     "name": "stdout",
     "output_type": "stream",
     "text": [
      "[3, 1, 4, 1, 6, 9, 2, 7, 5, 3, 5, 8, 9, 7, 10]\n"
     ]
    }
   ],
   "source": [
    "s = \"Now I need a drink, alcoholic of course, after the heavy lectures involving quantum mechanics.\"\n",
    "\n",
    "\n",
    "words = s.split(\" \")\n",
    "char_count = []\n",
    "#, .を除去し忘れている\n",
    "\n",
    "for word in words:\n",
    "    char_count.append(len(word))\n",
    "\n",
    "print(char_count)"
   ]
  },
  {
   "cell_type": "markdown",
   "metadata": {},
   "source": [
    "### 04. 元素記号\n",
    "\"Hi He Lied Because Boron Could Not Oxidize Fluorine. New Nations Might Also Sign Peace Security Clause. Arthur King Can.\"という文を単語に分解し，1, 5, 6, 7, 8, 9, 15, 16, 19番目の単語は先頭の1文字，それ以外の単語は先頭に2文字を取り出し，取り出した文字列から単語の位置（先頭から何番目の単語か）への連想配列（辞書型もしくはマップ型）を作成せよ．"
   ]
  },
  {
   "cell_type": "code",
   "execution_count": 26,
   "metadata": {
    "collapsed": false
   },
   "outputs": [
    {
     "name": "stdout",
     "output_type": "stream",
     "text": [
      "{'K': 19, 'Ar': 18, 'O': 8, 'B': 5, 'Be': 4, 'Si': 14, 'Mi': 12, 'Li': 3, 'H': 1, 'C': 6, 'F': 9, 'Ca': 20, 'Cl': 17, 'He': 2, 'S': 16, 'Al': 13, 'N': 7, 'Na': 11, 'P': 15, 'Ne': 10}\n"
     ]
    }
   ],
   "source": [
    "str = \"Hi He Lied Because Boron Could Not Oxidize Fluorine. New Nations Might Also Sign Peace Security Clause. Arthur King Can.\"\n",
    "str = str.split()\n",
    "idx = [1, 5, 6, 7, 8, 9, 15, 16, 19]\n",
    "dic = {}\n",
    "for index,item in enumerate(str,start=1):\n",
    "    if index in idx:\n",
    "        dic[item[0]] = index\n",
    "    else:\n",
    "        dic[item[0:2]] = index\n",
    "print(dic)"
   ]
  },
  {
   "cell_type": "markdown",
   "metadata": {},
   "source": [
    "#### はしくれエンジニアもどきのメモ"
   ]
  },
  {
   "cell_type": "code",
   "execution_count": 28,
   "metadata": {
    "collapsed": false
   },
   "outputs": [
    {
     "data": {
      "text/plain": [
       "{'Al': 13,\n",
       " 'Ar': 18,\n",
       " 'B': 5,\n",
       " 'Be': 4,\n",
       " 'C': 6,\n",
       " 'Ca': 20,\n",
       " 'Cl': 17,\n",
       " 'F': 9,\n",
       " 'H': 1,\n",
       " 'He': 2,\n",
       " 'K': 19,\n",
       " 'Li': 3,\n",
       " 'Mi': 12,\n",
       " 'N': 7,\n",
       " 'Na': 11,\n",
       " 'Ne': 10,\n",
       " 'O': 8,\n",
       " 'P': 15,\n",
       " 'S': 16,\n",
       " 'Si': 14}"
      ]
     },
     "execution_count": 28,
     "metadata": {},
     "output_type": "execute_result"
    }
   ],
   "source": [
    "import re\n",
    "\n",
    "sentense = \"Hi He Lied Because Boron Could Not Oxidize Fluorine. New Nations Might Also Sign Peace Security Clause. Arthur King Can.\"\n",
    "words = re.sub(r'[.|,]', '', sentense).split()\n",
    "idx_list_first = [1, 5, 6, 7, 8, 9, 15, 16, 19]\n",
    "\n",
    "# 参考：http://qiita.com/tanaka0325/items/08831b96b684d7ecb2f7\n",
    "dic = {w[:2 - int(i in idx_list_first)]:i for i, w in enumerate(words, 1)}\n",
    "dic"
   ]
  },
  {
   "cell_type": "markdown",
   "metadata": {},
   "source": [
    "#### gamma1129"
   ]
  },
  {
   "cell_type": "code",
   "execution_count": 30,
   "metadata": {
    "collapsed": false
   },
   "outputs": [
    {
     "name": "stdout",
     "output_type": "stream",
     "text": [
      "H 1\n",
      "He 2\n",
      "Li 3\n",
      "Be 4\n",
      "B 5\n",
      "C 6\n",
      "N 7\n",
      "O 8\n",
      "F 9\n",
      "Ne 10\n",
      "Na 11\n",
      "Mi 12\n",
      "Al 13\n",
      "Si 14\n",
      "P 15\n",
      "S 16\n",
      "Cl 17\n",
      "Ar 18\n",
      "K 19\n",
      "Ca 20\n"
     ]
    }
   ],
   "source": [
    "str = \"Hi He Lied Because Boron Could Not Oxidize Fluorine. New Nations Might Also Sign Peace Security Clause. Arthur King Can.\"\n",
    "str = str.split()\n",
    "\n",
    "dict = {}\n",
    "single = [1, 5, 6, 7, 8, 9, 15, 16, 19]\n",
    "\n",
    "for element in str:\n",
    "    if str.index(element) + 1 in single:\n",
    "        dict[element[:1]] = str.index(element) + 1\n",
    "    else:\n",
    "        dict[element[:2]] = str.index(element) + 1\n",
    "\n",
    "# 原子番号順にソートして print（蛇足）\n",
    "for k, v in sorted(dict.items(), key=lambda x:x[1]):\n",
    "    print( k, v)"
   ]
  },
  {
   "cell_type": "markdown",
   "metadata": {},
   "source": [
    "#### tanaka0325"
   ]
  },
  {
   "cell_type": "code",
   "execution_count": 31,
   "metadata": {
    "collapsed": false
   },
   "outputs": [
    {
     "name": "stdout",
     "output_type": "stream",
     "text": [
      "{'K': 19, 'Ar': 18, 'O': 8, 'B': 5, 'Be': 4, 'Si': 14, 'Mi': 12, 'Li': 3, 'H': 1, 'C': 6, 'F': 9, 'Ca': 20, 'Cl': 17, 'He': 2, 'S': 16, 'Al': 13, 'N': 7, 'Na': 11, 'P': 15, 'Ne': 10}\n"
     ]
    }
   ],
   "source": [
    "s = \"Hi He Lied Because Boron Could Not Oxidize Fluorine. New Nations Might Also Sign Peace Security Clause. Arthur King Can.\"\n",
    "\n",
    "s = s.replace(\".\", \"\")\n",
    "words = s.split(\" \")\n",
    "words_index = {}\n",
    "\n",
    "for i, word in enumerate(words):\n",
    "    n = i + 1\n",
    "    if n in [1, 5, 6, 7, 8, 9, 15, 16, 19]:\n",
    "        words_index[word[:1]] = n\n",
    "    else:\n",
    "        words_index[word[:2]] = n\n",
    "\n",
    "print(words_index)"
   ]
  },
  {
   "cell_type": "markdown",
   "metadata": {
    "collapsed": true
   },
   "source": [
    "### 05. n-gram\n",
    "与えられたシーケンス（文字列やリストなど）からn-gramを作る関数を作成せよ．この関数を用い，\"I am an NLPer\"という文から単語bi-gram，文字bi-gramを得よ"
   ]
  },
  {
   "cell_type": "code",
   "execution_count": 19,
   "metadata": {
    "collapsed": false
   },
   "outputs": [
    {
     "data": {
      "text/plain": [
       "[['I', 'am'], ['am', 'an'], ['an', 'NLPer']]"
      ]
     },
     "execution_count": 19,
     "metadata": {},
     "output_type": "execute_result"
    }
   ],
   "source": [
    "def n_gram(s,n):\n",
    "    sentence = s.split()\n",
    "    result = []\n",
    "    len_sentence = len(sentence)\n",
    "    for start in range(len_sentence - n + 1):\n",
    "        result.append(sentence[start:start+n])\n",
    "    return result\n",
    "        \n",
    "n_gram(\"I am an NLPer\",2)"
   ]
  },
  {
   "cell_type": "markdown",
   "metadata": {
    "collapsed": true
   },
   "source": [
    "#### はしくれエンジニアもどきのメモ書き"
   ]
  },
  {
   "cell_type": "code",
   "execution_count": 17,
   "metadata": {
    "collapsed": false
   },
   "outputs": [
    {
     "data": {
      "text/plain": [
       "[['I', 'am'], ['am', 'an'], ['an', 'NLPer']]"
      ]
     },
     "execution_count": 17,
     "metadata": {},
     "output_type": "execute_result"
    }
   ],
   "source": [
    "def n_gram(_in, n):\n",
    "    return [_in[i:i+n] for i in range(len(_in)) if len(_in[i:i+n]) >= n]\n",
    "\n",
    "s = \"I am an NLPer\"\n",
    "\n",
    "# 単語bigram\n",
    "n_gram(s.split(), 2)"
   ]
  },
  {
   "cell_type": "markdown",
   "metadata": {},
   "source": [
    "#### gamma1129"
   ]
  },
  {
   "cell_type": "code",
   "execution_count": 23,
   "metadata": {
    "collapsed": false
   },
   "outputs": [
    {
     "name": "stdout",
     "output_type": "stream",
     "text": [
      "$I\n",
      "I \n",
      " a\n",
      "am\n",
      "m \n",
      " a\n",
      "an\n",
      "n \n",
      " N\n",
      "NL\n",
      "LP\n",
      "Pe\n",
      "er\n",
      "r$\n",
      "['$', 'I']\n",
      "['I', 'am']\n",
      "['am', 'an']\n",
      "['an', 'NLPer']\n",
      "['NLPer', '$']\n"
     ]
    }
   ],
   "source": [
    "original = \"I am an NLPer\"\n",
    "\n",
    "def ngram(input, n):\n",
    "    # 文字 n-gram (引数 str)\n",
    "    l = len(input)\n",
    "    if type(input) == str:\n",
    "        input = \"$\" * (n - 1) + input + \"$\" * (n - 1)\n",
    "        for i in range(l + 1):\n",
    "            print(input[i:i+n])\n",
    "    # 単語 n-gram (引数 list)\n",
    "    elif type(input) == list:\n",
    "        input = [\"$\"] * (n - 1) + input + [\"$\"] * (n - 1)\n",
    "        for i in range(l + 1):\n",
    "            print(input[i:i+n])\n",
    "\n",
    "ngram(original, 2)              # 文字 n-gram\n",
    "original = original.split()\n",
    "ngram(original, 2)              # 単語 n-gram"
   ]
  },
  {
   "cell_type": "markdown",
   "metadata": {},
   "source": [
    "#### tanaka0325\n",
    "この人はここで頓挫している"
   ]
  },
  {
   "cell_type": "markdown",
   "metadata": {
    "collapsed": true
   },
   "source": [
    "### 06. 集合\n",
    "\"paraparaparadise\"と\"paragraph\"に含まれる文字bi-gramの集合を，それぞれ, XとYとして求め，XとYの和集合，積集合，差集合を求めよ．さらに，'se'というbi-gramがXおよびYに含まれるかどうかを調べよ．"
   ]
  },
  {
   "cell_type": "code",
   "execution_count": 18,
   "metadata": {
    "collapsed": false
   },
   "outputs": [
    {
     "name": "stdout",
     "output_type": "stream",
     "text": [
      "{'pa', 'se', 'ra', 'di', 'ph', 'ag', 'is', 'gr', 'ar', 'ad', 'ap'}\n",
      "{'pa', 'ar', 'ra', 'ap'}\n",
      "{'se', 'ad', 'is', 'di'}\n",
      "True\n",
      "False\n"
     ]
    }
   ],
   "source": [
    "def n_gram(s,n):\n",
    "    sentence = s.split()\n",
    "    result = []\n",
    "    len_sentence = len(sentence)\n",
    "    for start in range(len_sentence - n + 1):\n",
    "        result.append(sentence[start:start+n])\n",
    "    return result\n",
    "\n",
    "X = n_gram(\" \".join([s for s in \"paraparaparadise\"]),2)\n",
    "X = [s[0]+s[1] for s in X]\n",
    "Y = n_gram(\" \".join([s for s in \"paragraph\"]),2)\n",
    "Y = [s[0]+s[1] for s in Y]\n",
    "SX = set(X)\n",
    "SY = set(Y)\n",
    "#union\n",
    "print(SX.union(SY))\n",
    "#intersection\n",
    "print(SX.intersection(SY))\n",
    "#diff\n",
    "print(SX.difference(SY))\n",
    "#'se' in SX or SY\n",
    "print('se' in SX)\n",
    "print('se' in SY)\n",
    "\n"
   ]
  },
  {
   "cell_type": "markdown",
   "metadata": {},
   "source": [
    "#### はしくれエンジニアもどきのメモ"
   ]
  },
  {
   "cell_type": "code",
   "execution_count": 22,
   "metadata": {
    "collapsed": false
   },
   "outputs": [
    {
     "name": "stdout",
     "output_type": "stream",
     "text": [
      "{'pa', 'se', 'ra', 'di', 'is', 'ar', 'ad', 'ap'}\n",
      "{'pa', 'gr', 'ra', 'ph', 'ag', 'ar', 'ap'}\n",
      "{'pa', 'se', 'ra', 'di', 'ph', 'ag', 'is', 'gr', 'ar', 'ad', 'ap'}\n",
      "{'pa', 'ar', 'ra', 'ap'}\n",
      "{'se', 'ad', 'is', 'di'}\n",
      "{'gr', 'ph', 'ag'}\n",
      "True\n",
      "False\n"
     ]
    }
   ],
   "source": [
    "def n_gram(_in, n):\n",
    "    return [_in[i:i+n] for i in range(len(_in)) if len(_in[i:i+n]) >= n]\n",
    "\n",
    "s1 = \"paraparaparadise\"\n",
    "s2 = \"paragraph\"\n",
    "X = set(n_gram(s1, 2))\n",
    "print(X)\n",
    "Y = set(n_gram(s2, 2))\n",
    "print(Y)\n",
    "# 和集合\n",
    "union = X.union(Y)\n",
    "print(union)\n",
    "# 積集合\n",
    "intersec = X.intersection(Y)\n",
    "print(intersec)\n",
    "# 差集合\n",
    "diff_X_Y = X.difference(Y)\n",
    "print(diff_X_Y)\n",
    "diff_Y_X = Y.difference(X)\n",
    "print(diff_Y_X)\n",
    "print('se' in X)\n",
    "print('se' in Y)"
   ]
  },
  {
   "cell_type": "markdown",
   "metadata": {},
   "source": [
    "#### gamma1129"
   ]
  },
  {
   "cell_type": "code",
   "execution_count": 27,
   "metadata": {
    "collapsed": false
   },
   "outputs": [
    {
     "name": "stdout",
     "output_type": "stream",
     "text": [
      "{'pa', 'se', 'ra', 'gr', 'di', 'ph', 'e$', 'h$', 'is', 'ag', 'ar', '$p', 'ad', 'ap'}\n",
      "{'pa', 'ap', 'ar', 'ra', '$p'}\n",
      "{'se', 'e$', 'ad', 'is', 'di'}\n",
      "True\n",
      "False\n"
     ]
    }
   ],
   "source": [
    "str1 = \"paraparaparadise\"\n",
    "str2 = \"paragraph\"\n",
    "\n",
    "def ngram(input, n):\n",
    "    l = len(input)\n",
    "    list = []\n",
    "    input = \"$\" * (n - 1) + input + \"$\" * (n - 1)\n",
    "    for i in range(l + 1):\n",
    "        list.append(input[i:i+n])\n",
    "    return list\n",
    "\n",
    "# ngram の list を set に; 重複を排除できる上に集合演算が出来る\n",
    "X = set(ngram(str1, 2))\n",
    "Y = set(ngram(str2, 2))\n",
    "\n",
    "print(X.union(Y))            # 和集合\n",
    "print(X.intersection(Y))     # 積集合\n",
    "print(X.difference(Y))       # 差集合\n",
    "\n",
    "print(\"se\" in X)     # in: X に \"se\" が含まれていれば True, いなければ False\n",
    "print(\"se\" in Y)     # ほとんど同上（X -> Y）\n"
   ]
  },
  {
   "cell_type": "markdown",
   "metadata": {
    "collapsed": true
   },
   "source": [
    "### 07. テンプレートによる文生成\n",
    "引数x, y, zを受け取り「x時のyはz」という文字列を返す関数を実装せよ．さらに，x=12, y=\"気温\", z=22.4として，実行結果を確認せよ．"
   ]
  },
  {
   "cell_type": "code",
   "execution_count": 3,
   "metadata": {
    "collapsed": false
   },
   "outputs": [
    {
     "data": {
      "text/plain": [
       "'12時の気温は22.4'"
      ]
     },
     "execution_count": 3,
     "metadata": {},
     "output_type": "execute_result"
    }
   ],
   "source": [
    "def generation_string(x,y,z):\n",
    "    return \"{x}時の{y}は{z}\".format(x=x,y=y,z=z) \n",
    "\n",
    "generation_string(12,\"気温\",22.4)"
   ]
  },
  {
   "cell_type": "markdown",
   "metadata": {},
   "source": [
    "#### はしくれエンジニアもどきのメモ"
   ]
  },
  {
   "cell_type": "code",
   "execution_count": 4,
   "metadata": {
    "collapsed": false
   },
   "outputs": [
    {
     "data": {
      "text/plain": [
       "'12時の気温は22.4'"
      ]
     },
     "execution_count": 4,
     "metadata": {},
     "output_type": "execute_result"
    }
   ],
   "source": [
    "def create_sentense_temp(x, y, z):\n",
    "    return '{}時の{}は{}'.format(x, y, z)\n",
    "\n",
    "create_sentense_temp(12, '気温', 22.4)"
   ]
  },
  {
   "cell_type": "markdown",
   "metadata": {},
   "source": [
    "#### gamma1129"
   ]
  },
  {
   "cell_type": "code",
   "execution_count": 8,
   "metadata": {
    "collapsed": false
   },
   "outputs": [
    {
     "name": "stdout",
     "output_type": "stream",
     "text": [
      "12時の気温は22.4\n"
     ]
    }
   ],
   "source": [
    "x = 12\n",
    "y = u'気温'\n",
    "z = 22.4\n",
    "\n",
    "def function(x, y, z):\n",
    "    return str(x) + u'時の' + (y) + u'は' + str(z)\n",
    "\n",
    "print(function(x, y, z))"
   ]
  },
  {
   "cell_type": "markdown",
   "metadata": {
    "collapsed": true
   },
   "source": [
    "### 08. 暗号文\n",
    "与えられた文字列の各文字を，以下の仕様で変換する関数cipherを実装せよ．  \n",
    "\n",
    "英小文字ならば(219 - 文字コード)の文字に置換  \n",
    "その他の文字はそのまま出力  \n",
    "この関数を用い，英語のメッセージを暗号化・復号化せよ．  "
   ]
  },
  {
   "cell_type": "code",
   "execution_count": 22,
   "metadata": {
    "collapsed": false
   },
   "outputs": [
    {
     "name": "stdout",
     "output_type": "stream",
     "text": [
      "FfmCgrlB\n",
      "Hvool Wliow\n",
      "zyxwvutsrqpvolnmlkjihgfedcba\n"
     ]
    }
   ],
   "source": [
    "def cipher(sentence):\n",
    "    result = []\n",
    "    for s in sentence:\n",
    "        if s.islower():\n",
    "            result.append(chr(219-ord(s)))\n",
    "        else:\n",
    "            result.append(s)\n",
    "    return \"\".join(result)\n",
    "    \n",
    "\n",
    "print(cipher(\"FunCtioB\"))\n",
    "\n",
    "print(cipher(\"Hello World\"))\n",
    "\n",
    "print(cipher(\"abcdefghijkelomnopqrstuvwxyz\"))\n"
   ]
  },
  {
   "cell_type": "markdown",
   "metadata": {},
   "source": [
    "#### はしくれエンジニアもどきのメモ"
   ]
  },
  {
   "cell_type": "code",
   "execution_count": 18,
   "metadata": {
    "collapsed": false
   },
   "outputs": [
    {
     "data": {
      "text/plain": [
       "'Hvool Wliow'"
      ]
     },
     "execution_count": 18,
     "metadata": {},
     "output_type": "execute_result"
    }
   ],
   "source": [
    "def cipher(s:str):\n",
    "    # chr: アスキーコードから文字へ\n",
    "    # 219-ord: 文字から219アスキーコードへ\n",
    "    return ''.join([chr(219-ord(c)) if 'a' <= c <= 'z' else c for c in s]) \n",
    "                    \n",
    "cipher('Hello World')"
   ]
  },
  {
   "cell_type": "code",
   "execution_count": 21,
   "metadata": {
    "collapsed": false
   },
   "outputs": [
    {
     "data": {
      "text/plain": [
       "'zyxwvutsrqpvolnmlkjihgfedcba'"
      ]
     },
     "execution_count": 21,
     "metadata": {},
     "output_type": "execute_result"
    }
   ],
   "source": [
    "cipher('abcdefghijkelomnopqrstuvwxyz')"
   ]
  },
  {
   "cell_type": "markdown",
   "metadata": {},
   "source": [
    "#### gamma1129"
   ]
  },
  {
   "cell_type": "code",
   "execution_count": 23,
   "metadata": {
    "collapsed": false
   },
   "outputs": [
    {
     "name": "stdout",
     "output_type": "stream",
     "text": [
      "Agyzhs rh z hrnkov hfyhgrgfgrlm xrksvi uli gsv Hvyivd zokszyvg.\n",
      "Atbash is a simple substitution cipher for the Hebrew alphabet.\n"
     ]
    }
   ],
   "source": [
    "str = \"Atbash is a simple substitution cipher for the Hebrew alphabet.\"\n",
    "\n",
    "def cipher(input):\n",
    "    ret = \"\"\n",
    "    for char in input:\n",
    "        ret += chr(219-ord(char)) if char.islower() else char\n",
    "    return ret\n",
    "\n",
    "str = cipher(str)\n",
    "print(str)\n",
    "str = cipher(str)\n",
    "print(str)"
   ]
  },
  {
   "cell_type": "markdown",
   "metadata": {
    "collapsed": true
   },
   "source": [
    "### 09. Typoglycemia\n",
    "スペースで区切られた単語列に対して，各単語の先頭と末尾の文字は残し，それ以外の文字の順序をランダムに  \n",
    "並び替えるプログラムを作成せよ．ただし，長さが４以下の単語は並び替えないこととする．  \n",
    "適当な英語の文（例えば\"I couldn't believe that I could actually understand what I was reading : the phenomenal power of the human mind .\"）  \n",
    "を与え，その実行結果を確認せよ．"
   ]
  },
  {
   "cell_type": "code",
   "execution_count": 67,
   "metadata": {
    "collapsed": false
   },
   "outputs": [
    {
     "name": "stdout",
     "output_type": "stream",
     "text": [
      "I culnd'ot bevleie that I could atlcaluy udnsanertd what I was rdenaig : the phmoeennal pwoer of the hamun mind .\n"
     ]
    }
   ],
   "source": [
    "import random\n",
    "\n",
    "def typoglycemia(sentence):\n",
    "    random.seed()\n",
    "    sentence = sentence.split()\n",
    "    for index in range(len(sentence)):\n",
    "        if len(sentence[index]) > 4:\n",
    "            result = []\n",
    "            sp = [s for s in sentence[index]][1:-1]\n",
    "            random.shuffle(sp)\n",
    "            result = list(sentence[index][0]) + sp  + list(sentence[index][-1])\n",
    "            sentence[index] = \"\".join(result)\n",
    "    return sentence\n",
    "    \n",
    "    \n",
    "str = \"I couldn't believe that I could actually understand what I was reading : the phenomenal power of the human mind .\"\n",
    "print(\" \".join(typoglycemia(str)))\n",
    "\n",
    "\n"
   ]
  },
  {
   "cell_type": "markdown",
   "metadata": {
    "collapsed": true
   },
   "source": [
    "#### はしくれエンジニアもどきのメモ書き"
   ]
  },
  {
   "cell_type": "code",
   "execution_count": 68,
   "metadata": {
    "collapsed": false
   },
   "outputs": [
    {
     "data": {
      "text/plain": [
       "\"I cd'nulot bivelee that I cluod acatlluy uarsentndd what I was rdeniag the pamhnoenel pweor of the hmaun mind\""
      ]
     },
     "execution_count": 68,
     "metadata": {},
     "output_type": "execute_result"
    }
   ],
   "source": [
    "import re\n",
    "import random\n",
    "s = \"I couldn't believe that I could actually understand what I was reading : the phenomenal power of the human mind .\"\n",
    "\n",
    "def typoglycemia(not_sort_word_length=4):\n",
    "    def typo(s):\n",
    "        words = re.sub(r'[.|,|:]', '', s).split()\n",
    "        return [w[0] + ''.join(random.sample(w[1:-1], len(w[1:-1]))) + w[-1] if len(w) > not_sort_word_length else w for w in words]\n",
    "    return typo\n",
    "    \n",
    "# [w[0] + random.shuffle(list(w[1:-2])) + w[-1] for w in words if len(w) > 4]\n",
    "typo = typoglycemia(not_sort_word_length=4)\n",
    "t = typo(s)\n",
    "' '.join(t)"
   ]
  },
  {
   "cell_type": "markdown",
   "metadata": {
    "collapsed": true
   },
   "source": [
    "#### gamma1129"
   ]
  },
  {
   "cell_type": "code",
   "execution_count": null,
   "metadata": {
    "collapsed": true
   },
   "outputs": [],
   "source": [
    "import random\n",
    "\n",
    "str = \"I couldn't believe that I could actually understand what I was reading : the phenomenal power of the human mind .\"\n",
    "words = str.split()\n",
    "shuffled_list = []\n",
    "\n",
    "for word in words:\n",
    "    if len(word) < 4:\n",
    "        pass\n",
    "    else:\n",
    "        char_list = list(word)\n",
    "        mid_list = char_list[1:-1]\n",
    "        random.shuffle(mid_list)\n",
    "        word = word[0] + \"\".join(mid_list) + word[-1]\n",
    "    shuffled_list.append(word)\n",
    "\n",
    "shuffled_str = \" \".join(shuffled_list)\n",
    "print shuffled_str"
   ]
  },
  {
   "cell_type": "markdown",
   "metadata": {
    "collapsed": true
   },
   "source": [
    "# 第2章: UNIXコマンドの基礎\n",
    "hightemp.txtは，日本の最高気温の記録を「都道府県」「地点」「℃」「日」のタブ区切り形式で  \n",
    "格納したファイルである．以下の処理を行うプログラムを作成し，hightemp.txtを入力ファイルとして実行せよ．  \n",
    "さらに，同様の処理をUNIXコマンドでも実行し，プログラムの実行結果を確認せよ．\n"
   ]
  },
  {
   "cell_type": "markdown",
   "metadata": {
    "collapsed": true
   },
   "source": [
    "### 10. 行数のカウント\n",
    "行数をカウントせよ．確認にはwcコマンドを用いよ．"
   ]
  },
  {
   "cell_type": "code",
   "execution_count": 10,
   "metadata": {
    "collapsed": false
   },
   "outputs": [
    {
     "name": "stdout",
     "output_type": "stream",
     "text": [
      "24\n"
     ]
    }
   ],
   "source": [
    "fs = open(\"hightemp.txt\",encoding='UTF-8')\n",
    "line_count = 0\n",
    "for line in fs:\n",
    "    line_count = line_count + 1\n",
    "print(line_count)\n",
    "fs.close()"
   ]
  },
  {
   "cell_type": "markdown",
   "metadata": {},
   "source": [
    "#### gamma1129"
   ]
  },
  {
   "cell_type": "code",
   "execution_count": 4,
   "metadata": {
    "collapsed": false
   },
   "outputs": [
    {
     "data": {
      "text/plain": [
       "'\\nf = open(sys.argv[1])\\nlines = f.readlines()\\nprint(len(lines))\\n\\nf.close()\\n'"
      ]
     },
     "execution_count": 4,
     "metadata": {},
     "output_type": "execute_result"
    }
   ],
   "source": [
    "import sys\n",
    "\"\"\"\n",
    "f = open(sys.argv[1])\n",
    "lines = f.readlines()\n",
    "print(len(lines))\n",
    "\n",
    "f.close()\n",
    "\"\"\""
   ]
  },
  {
   "cell_type": "markdown",
   "metadata": {
    "collapsed": true
   },
   "source": [
    "### 11. タブをスペースに置換\n",
    "タブ1文字につきスペース1文字に置換せよ．確認にはsedコマンド，trコマンド，もしくはexpandコマンドを用いよ"
   ]
  },
  {
   "cell_type": "code",
   "execution_count": 5,
   "metadata": {
    "collapsed": false
   },
   "outputs": [],
   "source": [
    "fr = open(\"hightemp.txt\",encoding='UTF-8')\n",
    "fw = open(\"hightempw_replace.txt\",\"w\")\n",
    "for line in fr:\n",
    "    line = line.replace('\\t',' ')\n",
    "    fw.writelines(line)\n",
    "fw.close()\n",
    "fr.close()"
   ]
  },
  {
   "cell_type": "markdown",
   "metadata": {},
   "source": [
    "### 12. 1列目をcol1.txtに，2列目をcol2.txtに保存\n",
    "各行の1列目だけを抜き出したものをcol1.txtに，2列目だけを抜き出したものをcol2.txtとしてファイルに保存せよ．確認にはcutコマンドを用いよ．"
   ]
  },
  {
   "cell_type": "code",
   "execution_count": 5,
   "metadata": {
    "collapsed": false
   },
   "outputs": [],
   "source": [
    "import csv\n",
    "\n",
    "fw1 = open(\"col1.txt\",\"w\",encoding='UTF-8')\n",
    "fw2 = open(\"col2.txt\",\"w\",encoding='UTF-8')\n",
    "with open('hightemp.txt', 'r',encoding='UTF-8') as csvfile:\n",
    "    reader = csv.reader(csvfile, delimiter='\\t')\n",
    "    for row in reader:\n",
    "        fw1.writelines(row[0]+\"\\n\")\n",
    "        fw2.writelines(row[1]+\"\\n\")        \n",
    "fw2.close()\n",
    "fw1.close()"
   ]
  },
  {
   "cell_type": "markdown",
   "metadata": {},
   "source": [
    "#### gamma1129"
   ]
  },
  {
   "cell_type": "code",
   "execution_count": null,
   "metadata": {
    "collapsed": true
   },
   "outputs": [],
   "source": [
    "import sys\n",
    "\n",
    "\n",
    "def write_col(source_lines, colunm_number, filename):\n",
    "    col = []\n",
    "    for line in source_lines:\n",
    "        col.append(line.split()[colunm_number] + \"\\n\")\n",
    "    with open(filename, \"w\") as writer:\n",
    "        writer.writelines(col)\n",
    "\n",
    "\n",
    "with open(sys.argv[1]) as f:\n",
    "    lines = f.readlines()\n",
    "\n",
    "write_col(lines, 0, \"col1.txt\")\n",
    "write_col(lines, 1, \"col2.txt\")"
   ]
  },
  {
   "cell_type": "markdown",
   "metadata": {
    "collapsed": true
   },
   "source": [
    "### 13. col1.txtとcol2.txtをマージ\n",
    "12で作ったcol1.txtとcol2.txtを結合し，元のファイルの1列目と2列目をタブ区切りで並べたテキストファイルを  \n",
    "作成せよ．確認にはpasteコマンドを用いよ．  "
   ]
  },
  {
   "cell_type": "code",
   "execution_count": 22,
   "metadata": {
    "collapsed": false,
    "scrolled": true
   },
   "outputs": [],
   "source": [
    "import csv\n",
    "\n",
    "fr1 = open('col1.txt',encoding='UTF-8')\n",
    "fr2 = open('col2.txt',encoding='UTF-8')\n",
    "fw = open('merge.txt', 'w')\n",
    "for line1,line2 in zip(fr1,fr2):\n",
    "    fw.writelines('\\t'.join([line1[:-1],line2]))\n",
    "fw.close()\n",
    "fr2.close()\n",
    "fr1.close()"
   ]
  },
  {
   "cell_type": "markdown",
   "metadata": {},
   "source": [
    "#### gamma1129"
   ]
  },
  {
   "cell_type": "code",
   "execution_count": 23,
   "metadata": {
    "collapsed": false
   },
   "outputs": [
    {
     "ename": "UnicodeDecodeError",
     "evalue": "'cp932' codec can't decode byte 0x8c in position 8: illegal multibyte sequence",
     "output_type": "error",
     "traceback": [
      "\u001b[1;31m---------------------------------------------------------------------------\u001b[0m",
      "\u001b[1;31mUnicodeDecodeError\u001b[0m                        Traceback (most recent call last)",
      "\u001b[1;32m<ipython-input-23-c5201f11fde5>\u001b[0m in \u001b[0;36m<module>\u001b[1;34m()\u001b[0m\n\u001b[0;32m      1\u001b[0m \u001b[1;32mwith\u001b[0m \u001b[0mopen\u001b[0m\u001b[1;33m(\u001b[0m\u001b[1;34m\"col1.txt\"\u001b[0m\u001b[1;33m)\u001b[0m \u001b[1;32mas\u001b[0m \u001b[0mf1\u001b[0m\u001b[1;33m,\u001b[0m \u001b[0mopen\u001b[0m\u001b[1;33m(\u001b[0m\u001b[1;34m\"col2.txt\"\u001b[0m\u001b[1;33m)\u001b[0m \u001b[1;32mas\u001b[0m \u001b[0mf2\u001b[0m\u001b[1;33m:\u001b[0m\u001b[1;33m\u001b[0m\u001b[0m\n\u001b[1;32m----> 2\u001b[1;33m     \u001b[0mlines1\u001b[0m\u001b[1;33m,\u001b[0m \u001b[0mlines2\u001b[0m \u001b[1;33m=\u001b[0m \u001b[0mf1\u001b[0m\u001b[1;33m.\u001b[0m\u001b[0mreadlines\u001b[0m\u001b[1;33m(\u001b[0m\u001b[1;33m)\u001b[0m\u001b[1;33m,\u001b[0m \u001b[0mf2\u001b[0m\u001b[1;33m.\u001b[0m\u001b[0mreadlines\u001b[0m\u001b[1;33m(\u001b[0m\u001b[1;33m)\u001b[0m\u001b[1;33m\u001b[0m\u001b[0m\n\u001b[0m\u001b[0;32m      3\u001b[0m \u001b[1;33m\u001b[0m\u001b[0m\n\u001b[0;32m      4\u001b[0m \u001b[1;32mwith\u001b[0m \u001b[0mopen\u001b[0m\u001b[1;33m(\u001b[0m\u001b[1;34m\"merge_gamma1129.txt\"\u001b[0m\u001b[1;33m,\u001b[0m \u001b[1;34m\"w\"\u001b[0m\u001b[1;33m)\u001b[0m \u001b[1;32mas\u001b[0m \u001b[0mwriter\u001b[0m\u001b[1;33m:\u001b[0m\u001b[1;33m\u001b[0m\u001b[0m\n\u001b[0;32m      5\u001b[0m     \u001b[1;32mfor\u001b[0m \u001b[0mcol1\u001b[0m\u001b[1;33m,\u001b[0m \u001b[0mcol2\u001b[0m \u001b[1;32min\u001b[0m \u001b[0mzip\u001b[0m\u001b[1;33m(\u001b[0m\u001b[0mlines1\u001b[0m\u001b[1;33m,\u001b[0m \u001b[0mlines2\u001b[0m\u001b[1;33m)\u001b[0m\u001b[1;33m:\u001b[0m\u001b[1;33m\u001b[0m\u001b[0m\n",
      "\u001b[1;31mUnicodeDecodeError\u001b[0m: 'cp932' codec can't decode byte 0x8c in position 8: illegal multibyte sequence"
     ]
    }
   ],
   "source": [
    "with open(\"col1.txt\") as f1, open(\"col2.txt\") as f2:\n",
    "    lines1, lines2 = f1.readlines(), f2.readlines()\n",
    "\n",
    "with open(\"merge_gamma1129.txt\", \"w\") as writer:\n",
    "    for col1, col2 in zip(lines1, lines2):\n",
    "        writer.write(\"\\t\".join([col1.rstrip(), col2]))"
   ]
  },
  {
   "cell_type": "markdown",
   "metadata": {
    "collapsed": true
   },
   "source": [
    "### 14. 先頭からN行を出力\n",
    "自然数Nをコマンドライン引数などの手段で受け取り，入力のうち先頭のN行だけを表示せよ．確認にはheadコマンドを用いよ．\n",
    "\n",
    "この問題を実行するためにVisual studio2013 にPython Tools for Visual Studioをインストールした。\n"
   ]
  },
  {
   "cell_type": "code",
   "execution_count": null,
   "metadata": {
    "collapsed": true
   },
   "outputs": [],
   "source": [
    "import sys\n",
    "\n",
    "n = int(sys.argv[1])\n",
    "fr = open(\"D:\\\\nlp100\\\\hightemp.txt\",encoding=\"UTF-8\")\n",
    "\n",
    "for index,l in enumerate(fr):\n",
    "    if index+1 > n:\n",
    "        break\n",
    "    print(l)"
   ]
  },
  {
   "cell_type": "markdown",
   "metadata": {},
   "source": [
    "#### gamma1129"
   ]
  },
  {
   "cell_type": "code",
   "execution_count": null,
   "metadata": {
    "collapsed": true
   },
   "outputs": [],
   "source": [
    "# Usage: python 14.py [filename] [number of lines]\n",
    "\n",
    "import sys\n",
    "\n",
    "with open(sys.argv[1]) as f:\n",
    "    lines = f.readlines()\n",
    "\n",
    "for line in lines[:int(sys.argv[2])]:\n",
    "    print line,\n"
   ]
  },
  {
   "cell_type": "markdown",
   "metadata": {
    "collapsed": true
   },
   "source": [
    "### 15. 末尾のN行を出力\n",
    "自然数Nをコマンドライン引数などの手段で受け取り，入力のうち末尾のN行だけを表示せよ．確認にはtailコマンドを用いよ．"
   ]
  },
  {
   "cell_type": "code",
   "execution_count": 8,
   "metadata": {
    "collapsed": false
   },
   "outputs": [
    {
     "name": "stdout",
     "output_type": "stream",
     "text": [
      "['山梨県\\t大月\\t39.9\\t1990-07-19\\n', '山形県\\t鶴岡\\t39.9\\t1978-08-03\\n', '愛知県\\t名古屋\\t39.9\\t1942-08-02\\n']\n"
     ]
    }
   ],
   "source": [
    "import sys\n",
    "\n",
    "n = int(sys.argv[1])\n",
    "fr = open(\"D:\\\\nlp100\\\\hightemp.txt\",encoding=\"UTF-8\")\n",
    "list = fr.readlines()\n",
    "fr.close()\n",
    "for l in list[len(list) - n:]:\n",
    "    print(l)"
   ]
  },
  {
   "cell_type": "markdown",
   "metadata": {},
   "source": [
    "#### gamma1129"
   ]
  },
  {
   "cell_type": "code",
   "execution_count": null,
   "metadata": {
    "collapsed": true
   },
   "outputs": [],
   "source": [
    "import sys\n",
    "\n",
    "with open(sys.argv[1]) as f:\n",
    "    lines = f.readlines()\n",
    "\n",
    "for line in lines[len(lines) - int(sys.argv[2]):]:\n",
    "    print line,"
   ]
  },
  {
   "cell_type": "code",
   "execution_count": null,
   "metadata": {
    "collapsed": true
   },
   "outputs": [],
   "source": []
  },
  {
   "cell_type": "code",
   "execution_count": null,
   "metadata": {
    "collapsed": true
   },
   "outputs": [],
   "source": []
  },
  {
   "cell_type": "code",
   "execution_count": null,
   "metadata": {
    "collapsed": true
   },
   "outputs": [],
   "source": []
  }
 ],
 "metadata": {
  "kernelspec": {
   "display_name": "Python 3",
   "language": "python",
   "name": "python3"
  },
  "language_info": {
   "codemirror_mode": {
    "name": "ipython",
    "version": 3
   },
   "file_extension": ".py",
   "mimetype": "text/x-python",
   "name": "python",
   "nbconvert_exporter": "python",
   "pygments_lexer": "ipython3",
   "version": "3.5.1"
  }
 },
 "nbformat": 4,
 "nbformat_minor": 0
}
